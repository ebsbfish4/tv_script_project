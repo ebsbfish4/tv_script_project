{
 "cells": [
  {
   "cell_type": "markdown",
   "metadata": {},
   "source": [
    "# TV Script Generation\n",
    "In this project, you'll generate your own [Simpsons](https://en.wikipedia.org/wiki/The_Simpsons) TV scripts using RNNs.  You'll be using part of the [Simpsons dataset](https://www.kaggle.com/wcukierski/the-simpsons-by-the-data) of scripts from 27 seasons.  The Neural Network you'll build will generate a new TV script for a scene at [Moe's Tavern](https://simpsonswiki.com/wiki/Moe's_Tavern).\n",
    "## Get the Data\n",
    "The data is already provided for you.  You'll be using a subset of the original dataset.  It consists of only the scenes in Moe's Tavern.  This doesn't include other versions of the tavern, like \"Moe's Cavern\", \"Flaming Moe's\", \"Uncle Moe's Family Feed-Bag\", etc.."
   ]
  },
  {
   "cell_type": "code",
   "execution_count": 2,
   "metadata": {
    "collapsed": true
   },
   "outputs": [],
   "source": [
    "\"\"\"\n",
    "DON'T MODIFY ANYTHING IN THIS CELL\n",
    "\"\"\"\n",
    "import helper\n",
    "\n",
    "data_dir = './data/simpsons/moes_tavern_lines.txt'\n",
    "text = helper.load_data(data_dir)\n",
    "# Ignore notice, since we don't use it for analysing the data\n",
    "text = text[81:]"
   ]
  },
  {
   "cell_type": "markdown",
   "metadata": {},
   "source": [
    "## Explore the Data\n",
    "Play around with `view_sentence_range` to view different parts of the data."
   ]
  },
  {
   "cell_type": "code",
   "execution_count": 4,
   "metadata": {},
   "outputs": [
    {
     "name": "stdout",
     "output_type": "stream",
     "text": [
      "Dataset Stats\n",
      "Roughly the number of unique words: 11492\n",
      "Number of scenes: 262\n",
      "Average number of sentences in each scene: 15.248091603053435\n",
      "Number of lines: 4257\n",
      "Average number of words in each line: 11.50434578341555\n",
      "\n",
      "The sentences 50 to 60:\n",
      "Moe_Szyslak: Sorry, Homer.\n",
      "Homer_Simpson: (LOOKING AT WATCH) Ah. Finished with fifteen seconds to spare.\n",
      "Little_Man: (CONCERNED) What's the matter, buddy?\n",
      "Homer_Simpson: The moron next door closed early!\n",
      "Little_Man: (STIFFENING) I happen to be that moron.\n",
      "Homer_Simpson: Oh, me and my trenchant mouth.\n",
      "Homer_Simpson: Please, you've got to open that store.\n",
      "Little_Man: Let me think about it... Eh... No.\n",
      "Homer_Simpson: Okay, okay. But I want you to see a picture of the little girl you're disappointing. (GOES THROUGH HIS WALLET) Well I don't have one.\n",
      "Moe_Szyslak: (TO LITTLE MAN) Come on, Jer. Open up. Be a pal. Remember when I pulled you and your wife out of that burning car?\n"
     ]
    }
   ],
   "source": [
    "view_sentence_range = (50, 60)\n",
    "\n",
    "\"\"\"\n",
    "DON'T MODIFY ANYTHING IN THIS CELL\n",
    "\"\"\"\n",
    "import numpy as np\n",
    "\n",
    "print('Dataset Stats')\n",
    "print('Roughly the number of unique words: {}'.format(len({word: None for word in text.split()})))\n",
    "scenes = text.split('\\n\\n')\n",
    "print('Number of scenes: {}'.format(len(scenes)))\n",
    "sentence_count_scene = [scene.count('\\n') for scene in scenes]\n",
    "print('Average number of sentences in each scene: {}'.format(np.average(sentence_count_scene)))\n",
    "\n",
    "sentences = [sentence for scene in scenes for sentence in scene.split('\\n')]\n",
    "print('Number of lines: {}'.format(len(sentences)))\n",
    "word_count_sentence = [len(sentence.split()) for sentence in sentences]\n",
    "print('Average number of words in each line: {}'.format(np.average(word_count_sentence)))\n",
    "\n",
    "print()\n",
    "print('The sentences {} to {}:'.format(*view_sentence_range))\n",
    "print('\\n'.join(text.split('\\n')[view_sentence_range[0]:view_sentence_range[1]]))"
   ]
  },
  {
   "cell_type": "markdown",
   "metadata": {},
   "source": [
    "## Implement Preprocessing Functions\n",
    "The first thing to do to any dataset is preprocessing.  Implement the following preprocessing functions below:\n",
    "- Lookup Table\n",
    "- Tokenize Punctuation\n",
    "\n",
    "### Lookup Table\n",
    "To create a word embedding, you first need to transform the words to ids.  In this function, create two dictionaries:\n",
    "- Dictionary to go from the words to an id, we'll call `vocab_to_int`\n",
    "- Dictionary to go from the id to word, we'll call `int_to_vocab`\n",
    "\n",
    "Return these dictionaries in the following tuple `(vocab_to_int, int_to_vocab)`"
   ]
  },
  {
   "cell_type": "code",
   "execution_count": 7,
   "metadata": {},
   "outputs": [
    {
     "name": "stdout",
     "output_type": "stream",
     "text": [
      "Tests Passed\n"
     ]
    }
   ],
   "source": [
    "import numpy as np\n",
    "import problem_unittests as tests\n",
    "\n",
    "def create_lookup_tables(text):\n",
    "    \"\"\"\n",
    "    Create lookup tables for vocabulary\n",
    "    :param text: The text of tv scripts split into words\n",
    "    :return: A tuple of dicts (vocab_to_int, int_to_vocab)\n",
    "    \"\"\"\n",
    "    text = set(text)\n",
    "    vti = {word: num for num, word in enumerate(text)}\n",
    "    itv = {num: word for num, word in enumerate(text)}\n",
    "    return vti, itv\n",
    "\n",
    "\n",
    "\"\"\"\n",
    "DON'T MODIFY ANYTHING IN THIS CELL THAT IS BELOW THIS LINE\n",
    "\"\"\"\n",
    "tests.test_create_lookup_tables(create_lookup_tables)"
   ]
  },
  {
   "cell_type": "markdown",
   "metadata": {},
   "source": [
    "### Tokenize Punctuation\n",
    "We'll be splitting the script into a word array using spaces as delimiters.  However, punctuations like periods and exclamation marks make it hard for the neural network to distinguish between the word \"bye\" and \"bye!\".\n",
    "\n",
    "Implement the function `token_lookup` to return a dict that will be used to tokenize symbols like \"!\" into \"||Exclamation_Mark||\".  Create a dictionary for the following symbols where the symbol is the key and value is the token:\n",
    "- Period ( . )\n",
    "- Comma ( , )\n",
    "- Quotation Mark ( \" )\n",
    "- Semicolon ( ; )\n",
    "- Exclamation mark ( ! )\n",
    "- Question mark ( ? )\n",
    "- Left Parentheses ( ( )\n",
    "- Right Parentheses ( ) )\n",
    "- Dash ( -- )\n",
    "- Return ( \\n )\n",
    "\n",
    "This dictionary will be used to token the symbols and add the delimiter (space) around it.  This separates the symbols as it's own word, making it easier for the neural network to predict on the next word. Make sure you don't use a token that could be confused as a word. Instead of using the token \"dash\", try using something like \"||dash||\"."
   ]
  },
  {
   "cell_type": "code",
   "execution_count": 9,
   "metadata": {},
   "outputs": [
    {
     "name": "stdout",
     "output_type": "stream",
     "text": [
      "Tests Passed\n"
     ]
    }
   ],
   "source": [
    "def token_lookup():\n",
    "    \"\"\"\n",
    "    Generate a dict to turn punctuation into a token.\n",
    "    :return: Tokenize dictionary where the key is the punctuation and the value is the token\n",
    "    \"\"\"\n",
    "    \n",
    "    return {'.': '||Period||', ',': '||Comma||', '\"': '||Quotation_Mark||', ';': 'Semicolon', '!': '||Exclamation_Mark||', '?': '||Question_Mark||', \"(\": '||Left_Parentheses||', ')': '||Right_Parentheses||', '--': '||Dash||', '\\n': '||Return||'}\n",
    "\n",
    "\"\"\"\n",
    "DON'T MODIFY ANYTHING IN THIS CELL THAT IS BELOW THIS LINE\n",
    "\"\"\"\n",
    "tests.test_tokenize(token_lookup)"
   ]
  },
  {
   "cell_type": "markdown",
   "metadata": {},
   "source": [
    "## Preprocess all the data and save it\n",
    "Running the code cell below will preprocess all the data and save it to file."
   ]
  },
  {
   "cell_type": "code",
   "execution_count": 10,
   "metadata": {
    "collapsed": true
   },
   "outputs": [],
   "source": [
    "\"\"\"\n",
    "DON'T MODIFY ANYTHING IN THIS CELL\n",
    "\"\"\"\n",
    "# Preprocess Training, Validation, and Testing Data\n",
    "helper.preprocess_and_save_data(data_dir, token_lookup, create_lookup_tables)"
   ]
  },
  {
   "cell_type": "markdown",
   "metadata": {},
   "source": [
    "# Check Point\n",
    "This is your first checkpoint. If you ever decide to come back to this notebook or have to restart the notebook, you can start from here. The preprocessed data has been saved to disk."
   ]
  },
  {
   "cell_type": "code",
   "execution_count": 1,
   "metadata": {
    "collapsed": true
   },
   "outputs": [],
   "source": [
    "\"\"\"\n",
    "DON'T MODIFY ANYTHING IN THIS CELL\n",
    "\"\"\"\n",
    "import helper\n",
    "import numpy as np\n",
    "import problem_unittests as tests\n",
    "\n",
    "int_text, vocab_to_int, int_to_vocab, token_dict = helper.load_preprocess()"
   ]
  },
  {
   "cell_type": "markdown",
   "metadata": {},
   "source": [
    "## Build the Neural Network\n",
    "You'll build the components necessary to build a RNN by implementing the following functions below:\n",
    "- get_inputs\n",
    "- get_init_cell\n",
    "- get_embed\n",
    "- build_rnn\n",
    "- build_nn\n",
    "- get_batches\n",
    "\n",
    "### Check the Version of TensorFlow and Access to GPU"
   ]
  },
  {
   "cell_type": "code",
   "execution_count": 2,
   "metadata": {},
   "outputs": [
    {
     "name": "stdout",
     "output_type": "stream",
     "text": [
      "TensorFlow Version: 1.0.0\n"
     ]
    },
    {
     "name": "stderr",
     "output_type": "stream",
     "text": [
      "/home/drew/anaconda3/envs/tensorflow/lib/python3.5/site-packages/ipykernel_launcher.py:14: UserWarning: No GPU found. Please use a GPU to train your neural network.\n",
      "  \n"
     ]
    }
   ],
   "source": [
    "\"\"\"\n",
    "DON'T MODIFY ANYTHING IN THIS CELL\n",
    "\"\"\"\n",
    "from distutils.version import LooseVersion\n",
    "import warnings\n",
    "import tensorflow as tf\n",
    "\n",
    "# Check TensorFlow Version\n",
    "assert LooseVersion(tf.__version__) >= LooseVersion('1.0'), 'Please use TensorFlow version 1.0 or newer'\n",
    "print('TensorFlow Version: {}'.format(tf.__version__))\n",
    "\n",
    "# Check for a GPU\n",
    "if not tf.test.gpu_device_name():\n",
    "    warnings.warn('No GPU found. Please use a GPU to train your neural network.')\n",
    "else:\n",
    "    print('Default GPU Device: {}'.format(tf.test.gpu_device_name()))"
   ]
  },
  {
   "cell_type": "markdown",
   "metadata": {},
   "source": [
    "### Input\n",
    "Implement the `get_inputs()` function to create TF Placeholders for the Neural Network.  It should create the following placeholders:\n",
    "- Input text placeholder named \"input\" using the [TF Placeholder](https://www.tensorflow.org/api_docs/python/tf/placeholder) `name` parameter.\n",
    "- Targets placeholder\n",
    "- Learning Rate placeholder\n",
    "\n",
    "Return the placeholders in the following tuple `(Input, Targets, LearningRate)`"
   ]
  },
  {
   "cell_type": "code",
   "execution_count": 3,
   "metadata": {},
   "outputs": [
    {
     "name": "stdout",
     "output_type": "stream",
     "text": [
      "Tests Passed\n"
     ]
    }
   ],
   "source": [
    "def get_inputs():\n",
    "    \"\"\"\n",
    "    Create TF Placeholders for input, targets, and learning rate.\n",
    "    :return: Tuple (input, targets, learning rate)\n",
    "    \"\"\"\n",
    "    inputs = tf.placeholder(tf.int32, [None,None],name='input')\n",
    "    targets = tf.placeholder(tf.int32, [None,None],name='targers')\n",
    "    learning_rate = tf.placeholder(tf.float32,name='learning_rate')\n",
    "    return inputs, targets, learning_rate\n",
    "\n",
    "\n",
    "\"\"\"\n",
    "DON'T MODIFY ANYTHING IN THIS CELL THAT IS BELOW THIS LINE\n",
    "\"\"\"\n",
    "tests.test_get_inputs(get_inputs)"
   ]
  },
  {
   "cell_type": "markdown",
   "metadata": {},
   "source": [
    "### Build RNN Cell and Initialize\n",
    "Stack one or more [`BasicLSTMCells`](https://www.tensorflow.org/api_docs/python/tf/contrib/rnn/BasicLSTMCell) in a [`MultiRNNCell`](https://www.tensorflow.org/api_docs/python/tf/contrib/rnn/MultiRNNCell).\n",
    "- The Rnn size should be set using `rnn_size`\n",
    "- Initalize Cell State using the MultiRNNCell's [`zero_state()`](https://www.tensorflow.org/api_docs/python/tf/contrib/rnn/MultiRNNCell#zero_state) function\n",
    "    - Apply the name \"initial_state\" to the initial state using [`tf.identity()`](https://www.tensorflow.org/api_docs/python/tf/identity)\n",
    "\n",
    "Return the cell and initial state in the following tuple `(Cell, InitialState)`"
   ]
  },
  {
   "cell_type": "code",
   "execution_count": 4,
   "metadata": {},
   "outputs": [
    {
     "name": "stdout",
     "output_type": "stream",
     "text": [
      "Tests Passed\n"
     ]
    }
   ],
   "source": [
    "def get_init_cell(batch_size, rnn_size):\n",
    "    \"\"\"\n",
    "    Create an RNN Cell and initialize it.\n",
    "    :param batch_size: Size of batches\n",
    "    :param rnn_size: Size of RNNs\n",
    "    :return: Tuple (cell, initialize state)\n",
    "    \"\"\"\n",
    "    lstm = tf.contrib.rnn.BasicLSTMCell(rnn_size)\n",
    "    rnn_cell = tf.contrib.rnn.MultiRNNCell([lstm,lstm,lstm])\n",
    "    zero_state = rnn_cell.zero_state(batch_size=batch_size, dtype=tf.float32)\n",
    "    zero_state = tf.identity(zero_state, name=\"initial_state\")\n",
    "    return rnn_cell, zero_state\n",
    "\n",
    "\n",
    "\"\"\"\n",
    "DON'T MODIFY ANYTHING IN THIS CELL THAT IS BELOW THIS LINE\n",
    "\"\"\"\n",
    "tests.test_get_init_cell(get_init_cell)"
   ]
  },
  {
   "cell_type": "markdown",
   "metadata": {},
   "source": [
    "### Word Embedding\n",
    "Apply embedding to `input_data` using TensorFlow.  Return the embedded sequence."
   ]
  },
  {
   "cell_type": "code",
   "execution_count": 5,
   "metadata": {},
   "outputs": [
    {
     "name": "stdout",
     "output_type": "stream",
     "text": [
      "Tests Passed\n"
     ]
    }
   ],
   "source": [
    "def get_embed(input_data, vocab_size, embed_dim):\n",
    "    \"\"\"\n",
    "    Create embedding for <input_data>.\n",
    "    :param input_data: TF placeholder for text input.\n",
    "    :param vocab_size: Number of words in vocabulary.\n",
    "    :param embed_dim: Number of embedding dimensions\n",
    "    :return: Embedded input.\n",
    "    \"\"\"\"\"\n",
    "    return tf.contrib.layers.embed_sequence(input_data, vocab_size, embed_dim)\n",
    "\n",
    "\n",
    "\"\"\"\n",
    "DON'T MODIFY ANYTHING IN THIS CELL THAT IS BELOW THIS LINE\n",
    "\"\"\"\n",
    "tests.test_get_embed(get_embed)"
   ]
  },
  {
   "cell_type": "markdown",
   "metadata": {},
   "source": [
    "### Build RNN\n",
    "You created a RNN Cell in the `get_init_cell()` function.  Time to use the cell to create a RNN.\n",
    "- Build the RNN using the [`tf.nn.dynamic_rnn()`](https://www.tensorflow.org/api_docs/python/tf/nn/dynamic_rnn)\n",
    " - Apply the name \"final_state\" to the final state using [`tf.identity()`](https://www.tensorflow.org/api_docs/python/tf/identity)\n",
    "\n",
    "Return the outputs and final_state state in the following tuple `(Outputs, FinalState)` "
   ]
  },
  {
   "cell_type": "code",
   "execution_count": 6,
   "metadata": {},
   "outputs": [
    {
     "name": "stdout",
     "output_type": "stream",
     "text": [
      "Tests Passed\n"
     ]
    }
   ],
   "source": [
    "def build_rnn(cell, inputs):\n",
    "    \"\"\"\n",
    "    Create a RNN using a RNN Cell\n",
    "    :param cell: RNN Cell\n",
    "    :param inputs: Input text data\n",
    "    :return: Tuple (Outputs, Final State)\n",
    "    \"\"\"\n",
    "    outputs, final_state = tf.nn.dynamic_rnn(cell, inputs, dtype=tf.float32)\n",
    "    final_state = tf.identity(final_state, name=\"final_state\")\n",
    "    \n",
    "    return outputs, final_state\n",
    "\n",
    "\n",
    "\"\"\"\n",
    "DON'T MODIFY ANYTHING IN THIS CELL THAT IS BELOW THIS LINE\n",
    "\"\"\"\n",
    "tests.test_build_rnn(build_rnn)"
   ]
  },
  {
   "cell_type": "markdown",
   "metadata": {},
   "source": [
    "### Build the Neural Network\n",
    "Apply the functions you implemented above to:\n",
    "- Apply embedding to `input_data` using your `get_embed(input_data, vocab_size, embed_dim)` function.\n",
    "- Build RNN using `cell` and your `build_rnn(cell, inputs)` function.\n",
    "- Apply a fully connected layer with a linear activation and `vocab_size` as the number of outputs.\n",
    "\n",
    "Return the logits and final state in the following tuple (Logits, FinalState) "
   ]
  },
  {
   "cell_type": "code",
   "execution_count": 7,
   "metadata": {},
   "outputs": [
    {
     "name": "stdout",
     "output_type": "stream",
     "text": [
      "Tests Passed\n"
     ]
    }
   ],
   "source": [
    "def build_nn(cell, rnn_size, input_data, vocab_size, embed_dim):\n",
    "    \"\"\"\n",
    "    Build part of the neural network\n",
    "    :param cell: RNN cell\n",
    "    :param rnn_size: Size of rnns\n",
    "    :param input_data: Input data\n",
    "    :param vocab_size: Vocabulary size\n",
    "    :param embed_dim: Number of embedding dimensions\n",
    "    :return: Tuple (Logits, FinalState)\n",
    "    \"\"\"\n",
    "    embeded = get_embed(input_data, vocab_size, embed_dim)\n",
    "    outputs, final_state = build_rnn(cell, embeded)\n",
    "    logits = tf.contrib.layers.fully_connected(outputs, vocab_size, activation_fn=None)\n",
    "    return logits, final_state\n",
    "\n",
    "\"\"\"\n",
    "DON'T MODIFY ANYTHING IN THIS CELL THAT IS BELOW THIS LINE\n",
    "\"\"\"\n",
    "tests.test_build_nn(build_nn)"
   ]
  },
  {
   "cell_type": "markdown",
   "metadata": {},
   "source": [
    "### Batches\n",
    "Implement `get_batches` to create batches of input and targets using `int_text`.  The batches should be a Numpy array with the shape `(number of batches, 2, batch size, sequence length)`. Each batch contains two elements:\n",
    "- The first element is a single batch of **input** with the shape `[batch size, sequence length]`\n",
    "- The second element is a single batch of **targets** with the shape `[batch size, sequence length]`\n",
    "\n",
    "If you can't fill the last batch with enough data, drop the last batch.\n",
    "\n",
    "For exmple, `get_batches([1, 2, 3, 4, 5, 6, 7, 8, 9, 10, 11, 12, 13, 14, 15, 16, 17, 18, 19, 20], 3, 2)` would return a Numpy array of the following:\n",
    "```\n",
    "[\n",
    "  # First Batch\n",
    "  [\n",
    "    # Batch of Input\n",
    "    [[ 1  2], [ 7  8], [13 14]]\n",
    "    # Batch of targets\n",
    "    [[ 2  3], [ 8  9], [14 15]]\n",
    "  ]\n",
    "\n",
    "  # Second Batch\n",
    "  [\n",
    "    # Batch of Input\n",
    "    [[ 3  4], [ 9 10], [15 16]]\n",
    "    # Batch of targets\n",
    "    [[ 4  5], [10 11], [16 17]]\n",
    "  ]\n",
    "\n",
    "  # Third Batch\n",
    "  [\n",
    "    # Batch of Input\n",
    "    [[ 5  6], [11 12], [17 18]]\n",
    "    # Batch of targets\n",
    "    [[ 6  7], [12 13], [18  1]]\n",
    "  ]\n",
    "]\n",
    "```\n",
    "\n",
    "Notice that the last target value in the last batch is the first input value of the first batch. In this case, `1`. This is a common technique used when creating sequence batches, although it is rather unintuitive."
   ]
  },
  {
   "cell_type": "code",
   "execution_count": 31,
   "metadata": {},
   "outputs": [
    {
     "name": "stdout",
     "output_type": "stream",
     "text": [
      "Tests Passed\n"
     ]
    }
   ],
   "source": [
    "def get_batches(int_text, batch_size, seq_length):\n",
    "    \"\"\"\n",
    "    Return batches of input and target\n",
    "    :param int_text: Text with the words replaced by their ids\n",
    "    :param batch_size: The size of batch\n",
    "    :param seq_length: The length of sequence\n",
    "    :return: Batches as a Numpy array\n",
    "    \"\"\"\n",
    "    batch_words = batch_size*seq_length\n",
    "    num_batch = (len(int_text) - 1) // batch_words\n",
    "    total_len = batch_words*num_batch\n",
    "    inputs = int_text[:total_len]\n",
    "    outputs = int_text[1:total_len+1]\n",
    "    inputs = np.split(np.array(inputs).reshape(batch_size,-1),num_batch,1)\n",
    "    outputs = np.split(np.array(outputs).reshape(batch_size,-1),num_batch,1)\n",
    "    outputs[-1][-1][-1] = inputs[0][0][0]\n",
    "    return np.array(list(zip(inputs, outputs)))\n",
    "\n",
    "\"\"\"\n",
    "DON'T MODIFY ANYTHING IN THIS CELL THAT IS BELOW THIS LINE\n",
    "\"\"\"\n",
    "tests.test_get_batches(get_batches)"
   ]
  },
  {
   "cell_type": "markdown",
   "metadata": {},
   "source": [
    "## Neural Network Training\n",
    "### Hyperparameters\n",
    "Tune the following parameters:\n",
    "\n",
    "- Set `num_epochs` to the number of epochs.\n",
    "- Set `batch_size` to the batch size.\n",
    "- Set `rnn_size` to the size of the RNNs.\n",
    "- Set `embed_dim` to the size of the embedding.\n",
    "- Set `seq_length` to the length of sequence.\n",
    "- Set `learning_rate` to the learning rate.\n",
    "- Set `show_every_n_batches` to the number of batches the neural network should print progress."
   ]
  },
  {
   "cell_type": "code",
   "execution_count": 32,
   "metadata": {
    "collapsed": true
   },
   "outputs": [],
   "source": [
    "# Number of Epochs\n",
    "num_epochs = 300\n",
    "# Batch Size\n",
    "batch_size = 64\n",
    "# RNN Size\n",
    "rnn_size = 512\n",
    "# Embedding Dimension Size\n",
    "embed_dim = 300\n",
    "# Sequence Length\n",
    "seq_length = 20\n",
    "# Learning Rate\n",
    "learning_rate = 0.001\n",
    "# Show stats for every n number of batches\n",
    "show_every_n_batches = 50\n",
    "\n",
    "\"\"\"\n",
    "DON'T MODIFY ANYTHING IN THIS CELL THAT IS BELOW THIS LINE\n",
    "\"\"\"\n",
    "save_dir = './save'"
   ]
  },
  {
   "cell_type": "markdown",
   "metadata": {},
   "source": [
    "### Build the Graph\n",
    "Build the graph using the neural network you implemented."
   ]
  },
  {
   "cell_type": "code",
   "execution_count": 33,
   "metadata": {
    "collapsed": true
   },
   "outputs": [],
   "source": [
    "\"\"\"\n",
    "DON'T MODIFY ANYTHING IN THIS CELL\n",
    "\"\"\"\n",
    "from tensorflow.contrib import seq2seq\n",
    "\n",
    "train_graph = tf.Graph()\n",
    "with train_graph.as_default():\n",
    "    vocab_size = len(int_to_vocab)\n",
    "    input_text, targets, lr = get_inputs()\n",
    "    input_data_shape = tf.shape(input_text)\n",
    "    cell, initial_state = get_init_cell(input_data_shape[0], rnn_size)\n",
    "    logits, final_state = build_nn(cell, rnn_size, input_text, vocab_size, embed_dim)\n",
    "\n",
    "    # Probabilities for generating words\n",
    "    probs = tf.nn.softmax(logits, name='probs')\n",
    "\n",
    "    # Loss function\n",
    "    cost = seq2seq.sequence_loss(\n",
    "        logits,\n",
    "        targets,\n",
    "        tf.ones([input_data_shape[0], input_data_shape[1]]))\n",
    "\n",
    "    # Optimizer\n",
    "    optimizer = tf.train.AdamOptimizer(lr)\n",
    "\n",
    "    # Gradient Clipping\n",
    "    gradients = optimizer.compute_gradients(cost)\n",
    "    capped_gradients = [(tf.clip_by_value(grad, -1., 1.), var) for grad, var in gradients if grad is not None]\n",
    "    train_op = optimizer.apply_gradients(capped_gradients)"
   ]
  },
  {
   "cell_type": "markdown",
   "metadata": {},
   "source": [
    "## Train\n",
    "Train the neural network on the preprocessed data.  If you have a hard time getting a good loss, check the [forums](https://discussions.udacity.com/) to see if anyone is having the same problem."
   ]
  },
  {
   "cell_type": "code",
   "execution_count": 34,
   "metadata": {},
   "outputs": [
    {
     "name": "stdout",
     "output_type": "stream",
     "text": [
      "Epoch   0 Batch    0/53   train_loss = 8.822\n",
      "Epoch   0 Batch   50/53   train_loss = 6.322\n",
      "Epoch   1 Batch   47/53   train_loss = 6.123\n",
      "Epoch   2 Batch   44/53   train_loss = 6.042\n",
      "Epoch   3 Batch   41/53   train_loss = 6.185\n",
      "Epoch   4 Batch   38/53   train_loss = 6.147\n",
      "Epoch   5 Batch   35/53   train_loss = 6.204\n",
      "Epoch   6 Batch   32/53   train_loss = 5.761\n",
      "Epoch   7 Batch   29/53   train_loss = 5.573\n",
      "Epoch   8 Batch   26/53   train_loss = 5.651\n",
      "Epoch   9 Batch   23/53   train_loss = 5.321\n",
      "Epoch  10 Batch   20/53   train_loss = 5.233\n",
      "Epoch  11 Batch   17/53   train_loss = 5.147\n",
      "Epoch  12 Batch   14/53   train_loss = 4.999\n",
      "Epoch  13 Batch   11/53   train_loss = 4.911\n",
      "Epoch  14 Batch    8/53   train_loss = 4.684\n",
      "Epoch  15 Batch    5/53   train_loss = 4.731\n",
      "Epoch  16 Batch    2/53   train_loss = 4.802\n",
      "Epoch  16 Batch   52/53   train_loss = 4.498\n",
      "Epoch  17 Batch   49/53   train_loss = 4.480\n",
      "Epoch  18 Batch   46/53   train_loss = 4.519\n",
      "Epoch  19 Batch   43/53   train_loss = 4.389\n",
      "Epoch  20 Batch   40/53   train_loss = 4.334\n",
      "Epoch  21 Batch   37/53   train_loss = 4.436\n",
      "Epoch  22 Batch   34/53   train_loss = 4.308\n",
      "Epoch  23 Batch   31/53   train_loss = 4.265\n",
      "Epoch  24 Batch   28/53   train_loss = 4.058\n",
      "Epoch  25 Batch   25/53   train_loss = 4.140\n",
      "Epoch  26 Batch   22/53   train_loss = 4.033\n",
      "Epoch  27 Batch   19/53   train_loss = 3.880\n",
      "Epoch  28 Batch   16/53   train_loss = 3.924\n",
      "Epoch  29 Batch   13/53   train_loss = 3.994\n",
      "Epoch  30 Batch   10/53   train_loss = 3.813\n",
      "Epoch  31 Batch    7/53   train_loss = 3.793\n",
      "Epoch  32 Batch    4/53   train_loss = 3.696\n",
      "Epoch  33 Batch    1/53   train_loss = 3.585\n",
      "Epoch  33 Batch   51/53   train_loss = 3.663\n",
      "Epoch  34 Batch   48/53   train_loss = 3.562\n",
      "Epoch  35 Batch   45/53   train_loss = 3.487\n",
      "Epoch  36 Batch   42/53   train_loss = 3.383\n",
      "Epoch  37 Batch   39/53   train_loss = 3.516\n",
      "Epoch  38 Batch   36/53   train_loss = 3.490\n",
      "Epoch  39 Batch   33/53   train_loss = 3.463\n",
      "Epoch  40 Batch   30/53   train_loss = 3.385\n",
      "Epoch  41 Batch   27/53   train_loss = 3.154\n",
      "Epoch  42 Batch   24/53   train_loss = 3.100\n",
      "Epoch  43 Batch   21/53   train_loss = 3.071\n",
      "Epoch  44 Batch   18/53   train_loss = 3.072\n",
      "Epoch  45 Batch   15/53   train_loss = 3.043\n",
      "Epoch  46 Batch   12/53   train_loss = 3.145\n",
      "Epoch  47 Batch    9/53   train_loss = 2.924\n",
      "Epoch  48 Batch    6/53   train_loss = 2.802\n",
      "Epoch  49 Batch    3/53   train_loss = 2.888\n",
      "Epoch  50 Batch    0/53   train_loss = 2.740\n",
      "Epoch  50 Batch   50/53   train_loss = 2.797\n",
      "Epoch  51 Batch   47/53   train_loss = 2.593\n",
      "Epoch  52 Batch   44/53   train_loss = 2.616\n",
      "Epoch  53 Batch   41/53   train_loss = 2.502\n",
      "Epoch  54 Batch   38/53   train_loss = 2.583\n",
      "Epoch  55 Batch   35/53   train_loss = 2.503\n",
      "Epoch  56 Batch   32/53   train_loss = 2.330\n",
      "Epoch  57 Batch   29/53   train_loss = 2.402\n",
      "Epoch  58 Batch   26/53   train_loss = 2.300\n",
      "Epoch  59 Batch   23/53   train_loss = 2.238\n",
      "Epoch  60 Batch   20/53   train_loss = 2.174\n",
      "Epoch  61 Batch   17/53   train_loss = 2.141\n",
      "Epoch  62 Batch   14/53   train_loss = 2.019\n",
      "Epoch  63 Batch   11/53   train_loss = 2.012\n",
      "Epoch  64 Batch    8/53   train_loss = 1.980\n",
      "Epoch  65 Batch    5/53   train_loss = 1.971\n",
      "Epoch  66 Batch    2/53   train_loss = 1.902\n",
      "Epoch  66 Batch   52/53   train_loss = 1.873\n",
      "Epoch  67 Batch   49/53   train_loss = 1.828\n",
      "Epoch  68 Batch   46/53   train_loss = 1.805\n",
      "Epoch  69 Batch   43/53   train_loss = 1.659\n",
      "Epoch  70 Batch   40/53   train_loss = 1.692\n",
      "Epoch  71 Batch   37/53   train_loss = 1.662\n",
      "Epoch  72 Batch   34/53   train_loss = 1.686\n",
      "Epoch  73 Batch   31/53   train_loss = 1.572\n",
      "Epoch  74 Batch   28/53   train_loss = 1.537\n",
      "Epoch  75 Batch   25/53   train_loss = 1.532\n",
      "Epoch  76 Batch   22/53   train_loss = 1.592\n",
      "Epoch  77 Batch   19/53   train_loss = 1.442\n",
      "Epoch  78 Batch   16/53   train_loss = 1.346\n",
      "Epoch  79 Batch   13/53   train_loss = 1.235\n",
      "Epoch  80 Batch   10/53   train_loss = 1.244\n",
      "Epoch  81 Batch    7/53   train_loss = 1.342\n",
      "Epoch  82 Batch    4/53   train_loss = 1.095\n",
      "Epoch  83 Batch    1/53   train_loss = 1.091\n",
      "Epoch  83 Batch   51/53   train_loss = 1.133\n",
      "Epoch  84 Batch   48/53   train_loss = 1.075\n",
      "Epoch  85 Batch   45/53   train_loss = 1.001\n",
      "Epoch  86 Batch   42/53   train_loss = 0.947\n",
      "Epoch  87 Batch   39/53   train_loss = 0.924\n",
      "Epoch  88 Batch   36/53   train_loss = 0.973\n",
      "Epoch  89 Batch   33/53   train_loss = 0.976\n",
      "Epoch  90 Batch   30/53   train_loss = 0.870\n",
      "Epoch  91 Batch   27/53   train_loss = 0.773\n",
      "Epoch  92 Batch   24/53   train_loss = 0.729\n",
      "Epoch  93 Batch   21/53   train_loss = 0.751\n",
      "Epoch  94 Batch   18/53   train_loss = 0.756\n",
      "Epoch  95 Batch   15/53   train_loss = 0.653\n",
      "Epoch  96 Batch   12/53   train_loss = 0.719\n",
      "Epoch  97 Batch    9/53   train_loss = 0.648\n",
      "Epoch  98 Batch    6/53   train_loss = 0.635\n",
      "Epoch  99 Batch    3/53   train_loss = 0.608\n",
      "Epoch 100 Batch    0/53   train_loss = 0.650\n",
      "Epoch 100 Batch   50/53   train_loss = 0.517\n",
      "Epoch 101 Batch   47/53   train_loss = 0.543\n",
      "Epoch 102 Batch   44/53   train_loss = 0.503\n",
      "Epoch 103 Batch   41/53   train_loss = 0.461\n",
      "Epoch 104 Batch   38/53   train_loss = 0.465\n",
      "Epoch 105 Batch   35/53   train_loss = 0.434\n",
      "Epoch 106 Batch   32/53   train_loss = 0.437\n",
      "Epoch 107 Batch   29/53   train_loss = 0.528\n",
      "Epoch 108 Batch   26/53   train_loss = 0.459\n",
      "Epoch 109 Batch   23/53   train_loss = 0.447\n",
      "Epoch 110 Batch   20/53   train_loss = 0.424\n",
      "Epoch 111 Batch   17/53   train_loss = 0.405\n",
      "Epoch 112 Batch   14/53   train_loss = 0.421\n",
      "Epoch 113 Batch   11/53   train_loss = 0.385\n",
      "Epoch 114 Batch    8/53   train_loss = 0.335\n",
      "Epoch 115 Batch    5/53   train_loss = 0.349\n",
      "Epoch 116 Batch    2/53   train_loss = 0.330\n",
      "Epoch 116 Batch   52/53   train_loss = 0.278\n",
      "Epoch 117 Batch   49/53   train_loss = 0.279\n",
      "Epoch 118 Batch   46/53   train_loss = 0.265\n",
      "Epoch 119 Batch   43/53   train_loss = 0.270\n",
      "Epoch 120 Batch   40/53   train_loss = 0.283\n",
      "Epoch 121 Batch   37/53   train_loss = 0.241\n",
      "Epoch 122 Batch   34/53   train_loss = 0.245\n",
      "Epoch 123 Batch   31/53   train_loss = 0.228\n",
      "Epoch 124 Batch   28/53   train_loss = 0.245\n",
      "Epoch 125 Batch   25/53   train_loss = 0.231\n",
      "Epoch 126 Batch   22/53   train_loss = 0.240\n",
      "Epoch 127 Batch   19/53   train_loss = 0.225\n",
      "Epoch 128 Batch   16/53   train_loss = 0.210\n",
      "Epoch 129 Batch   13/53   train_loss = 0.183\n",
      "Epoch 130 Batch   10/53   train_loss = 0.189\n",
      "Epoch 131 Batch    7/53   train_loss = 0.230\n",
      "Epoch 132 Batch    4/53   train_loss = 0.176\n",
      "Epoch 133 Batch    1/53   train_loss = 0.193\n",
      "Epoch 133 Batch   51/53   train_loss = 0.195\n",
      "Epoch 134 Batch   48/53   train_loss = 0.201\n",
      "Epoch 135 Batch   45/53   train_loss = 0.181\n",
      "Epoch 136 Batch   42/53   train_loss = 0.190\n",
      "Epoch 137 Batch   39/53   train_loss = 0.184\n",
      "Epoch 138 Batch   36/53   train_loss = 0.174\n",
      "Epoch 139 Batch   33/53   train_loss = 0.190\n",
      "Epoch 140 Batch   30/53   train_loss = 0.194\n",
      "Epoch 141 Batch   27/53   train_loss = 0.165\n",
      "Epoch 142 Batch   24/53   train_loss = 0.169\n",
      "Epoch 143 Batch   21/53   train_loss = 0.177\n",
      "Epoch 144 Batch   18/53   train_loss = 0.178\n",
      "Epoch 145 Batch   15/53   train_loss = 0.161\n",
      "Epoch 146 Batch   12/53   train_loss = 0.154\n",
      "Epoch 147 Batch    9/53   train_loss = 0.192\n",
      "Epoch 148 Batch    6/53   train_loss = 0.171\n",
      "Epoch 149 Batch    3/53   train_loss = 0.155\n",
      "Epoch 150 Batch    0/53   train_loss = 0.216\n",
      "Epoch 150 Batch   50/53   train_loss = 0.186\n",
      "Epoch 151 Batch   47/53   train_loss = 0.283\n",
      "Epoch 152 Batch   44/53   train_loss = 0.495\n",
      "Epoch 153 Batch   41/53   train_loss = 0.591\n",
      "Epoch 154 Batch   38/53   train_loss = 0.430\n",
      "Epoch 155 Batch   35/53   train_loss = 0.305\n",
      "Epoch 156 Batch   32/53   train_loss = 0.226\n",
      "Epoch 157 Batch   29/53   train_loss = 0.228\n",
      "Epoch 158 Batch   26/53   train_loss = 0.203\n",
      "Epoch 159 Batch   23/53   train_loss = 0.178\n",
      "Epoch 160 Batch   20/53   train_loss = 0.183\n",
      "Epoch 161 Batch   17/53   train_loss = 0.168\n",
      "Epoch 162 Batch   14/53   train_loss = 0.154\n",
      "Epoch 163 Batch   11/53   train_loss = 0.177\n",
      "Epoch 164 Batch    8/53   train_loss = 0.159\n",
      "Epoch 165 Batch    5/53   train_loss = 0.167\n",
      "Epoch 166 Batch    2/53   train_loss = 0.191\n",
      "Epoch 166 Batch   52/53   train_loss = 0.156\n",
      "Epoch 167 Batch   49/53   train_loss = 0.163\n",
      "Epoch 168 Batch   46/53   train_loss = 0.169\n",
      "Epoch 169 Batch   43/53   train_loss = 0.178\n",
      "Epoch 170 Batch   40/53   train_loss = 0.179\n",
      "Epoch 171 Batch   37/53   train_loss = 0.164\n"
     ]
    },
    {
     "name": "stdout",
     "output_type": "stream",
     "text": [
      "Epoch 172 Batch   34/53   train_loss = 0.177\n",
      "Epoch 173 Batch   31/53   train_loss = 0.162\n",
      "Epoch 174 Batch   28/53   train_loss = 0.189\n",
      "Epoch 175 Batch   25/53   train_loss = 0.176\n",
      "Epoch 176 Batch   22/53   train_loss = 0.162\n",
      "Epoch 177 Batch   19/53   train_loss = 0.181\n",
      "Epoch 178 Batch   16/53   train_loss = 0.157\n",
      "Epoch 179 Batch   13/53   train_loss = 0.149\n",
      "Epoch 180 Batch   10/53   train_loss = 0.158\n",
      "Epoch 181 Batch    7/53   train_loss = 0.191\n",
      "Epoch 182 Batch    4/53   train_loss = 0.143\n",
      "Epoch 183 Batch    1/53   train_loss = 0.163\n",
      "Epoch 183 Batch   51/53   train_loss = 0.164\n",
      "Epoch 184 Batch   48/53   train_loss = 0.170\n",
      "Epoch 185 Batch   45/53   train_loss = 0.154\n",
      "Epoch 186 Batch   42/53   train_loss = 0.158\n",
      "Epoch 187 Batch   39/53   train_loss = 0.164\n",
      "Epoch 188 Batch   36/53   train_loss = 0.149\n",
      "Epoch 189 Batch   33/53   train_loss = 0.165\n",
      "Epoch 190 Batch   30/53   train_loss = 0.171\n",
      "Epoch 191 Batch   27/53   train_loss = 0.142\n",
      "Epoch 192 Batch   24/53   train_loss = 0.154\n",
      "Epoch 193 Batch   21/53   train_loss = 0.156\n",
      "Epoch 194 Batch   18/53   train_loss = 0.158\n",
      "Epoch 195 Batch   15/53   train_loss = 0.145\n",
      "Epoch 196 Batch   12/53   train_loss = 0.130\n",
      "Epoch 197 Batch    9/53   train_loss = 0.152\n",
      "Epoch 198 Batch    6/53   train_loss = 0.151\n",
      "Epoch 199 Batch    3/53   train_loss = 0.136\n",
      "Epoch 200 Batch    0/53   train_loss = 0.172\n",
      "Epoch 200 Batch   50/53   train_loss = 0.136\n",
      "Epoch 201 Batch   47/53   train_loss = 0.157\n",
      "Epoch 202 Batch   44/53   train_loss = 0.151\n",
      "Epoch 203 Batch   41/53   train_loss = 0.147\n",
      "Epoch 204 Batch   38/53   train_loss = 0.158\n",
      "Epoch 205 Batch   35/53   train_loss = 0.134\n",
      "Epoch 206 Batch   32/53   train_loss = 0.148\n",
      "Epoch 207 Batch   29/53   train_loss = 0.191\n",
      "Epoch 208 Batch   26/53   train_loss = 0.176\n",
      "Epoch 209 Batch   23/53   train_loss = 0.159\n",
      "Epoch 210 Batch   20/53   train_loss = 0.166\n",
      "Epoch 211 Batch   17/53   train_loss = 0.150\n",
      "Epoch 212 Batch   14/53   train_loss = 0.140\n",
      "Epoch 213 Batch   11/53   train_loss = 0.164\n",
      "Epoch 214 Batch    8/53   train_loss = 0.148\n",
      "Epoch 215 Batch    5/53   train_loss = 0.156\n",
      "Epoch 216 Batch    2/53   train_loss = 0.181\n",
      "Epoch 216 Batch   52/53   train_loss = 0.143\n",
      "Epoch 217 Batch   49/53   train_loss = 0.150\n",
      "Epoch 218 Batch   46/53   train_loss = 0.151\n",
      "Epoch 219 Batch   43/53   train_loss = 0.168\n",
      "Epoch 220 Batch   40/53   train_loss = 0.169\n",
      "Epoch 221 Batch   37/53   train_loss = 0.152\n",
      "Epoch 222 Batch   34/53   train_loss = 0.163\n",
      "Epoch 223 Batch   31/53   train_loss = 0.150\n",
      "Epoch 224 Batch   28/53   train_loss = 0.175\n",
      "Epoch 225 Batch   25/53   train_loss = 0.165\n",
      "Epoch 226 Batch   22/53   train_loss = 0.155\n",
      "Epoch 227 Batch   19/53   train_loss = 0.174\n",
      "Epoch 228 Batch   16/53   train_loss = 0.146\n",
      "Epoch 229 Batch   13/53   train_loss = 0.141\n",
      "Epoch 230 Batch   10/53   train_loss = 0.157\n",
      "Epoch 231 Batch    7/53   train_loss = 0.289\n",
      "Epoch 232 Batch    4/53   train_loss = 1.029\n",
      "Epoch 233 Batch    1/53   train_loss = 0.776\n",
      "Epoch 233 Batch   51/53   train_loss = 0.390\n",
      "Epoch 234 Batch   48/53   train_loss = 0.259\n",
      "Epoch 235 Batch   45/53   train_loss = 0.177\n",
      "Epoch 236 Batch   42/53   train_loss = 0.170\n",
      "Epoch 237 Batch   39/53   train_loss = 0.165\n",
      "Epoch 238 Batch   36/53   train_loss = 0.150\n",
      "Epoch 239 Batch   33/53   train_loss = 0.163\n",
      "Epoch 240 Batch   30/53   train_loss = 0.167\n",
      "Epoch 241 Batch   27/53   train_loss = 0.140\n",
      "Epoch 242 Batch   24/53   train_loss = 0.152\n",
      "Epoch 243 Batch   21/53   train_loss = 0.152\n",
      "Epoch 244 Batch   18/53   train_loss = 0.157\n",
      "Epoch 245 Batch   15/53   train_loss = 0.142\n",
      "Epoch 246 Batch   12/53   train_loss = 0.128\n",
      "Epoch 247 Batch    9/53   train_loss = 0.150\n",
      "Epoch 248 Batch    6/53   train_loss = 0.148\n",
      "Epoch 249 Batch    3/53   train_loss = 0.134\n",
      "Epoch 250 Batch    0/53   train_loss = 0.169\n",
      "Epoch 250 Batch   50/53   train_loss = 0.135\n",
      "Epoch 251 Batch   47/53   train_loss = 0.155\n",
      "Epoch 252 Batch   44/53   train_loss = 0.150\n",
      "Epoch 253 Batch   41/53   train_loss = 0.145\n",
      "Epoch 254 Batch   38/53   train_loss = 0.155\n",
      "Epoch 255 Batch   35/53   train_loss = 0.132\n",
      "Epoch 256 Batch   32/53   train_loss = 0.145\n",
      "Epoch 257 Batch   29/53   train_loss = 0.188\n",
      "Epoch 258 Batch   26/53   train_loss = 0.174\n",
      "Epoch 259 Batch   23/53   train_loss = 0.157\n",
      "Epoch 260 Batch   20/53   train_loss = 0.164\n",
      "Epoch 261 Batch   17/53   train_loss = 0.148\n",
      "Epoch 262 Batch   14/53   train_loss = 0.138\n",
      "Epoch 263 Batch   11/53   train_loss = 0.161\n",
      "Epoch 264 Batch    8/53   train_loss = 0.146\n",
      "Epoch 265 Batch    5/53   train_loss = 0.154\n",
      "Epoch 266 Batch    2/53   train_loss = 0.179\n",
      "Epoch 266 Batch   52/53   train_loss = 0.142\n",
      "Epoch 267 Batch   49/53   train_loss = 0.148\n",
      "Epoch 268 Batch   46/53   train_loss = 0.150\n",
      "Epoch 269 Batch   43/53   train_loss = 0.166\n",
      "Epoch 270 Batch   40/53   train_loss = 0.167\n",
      "Epoch 271 Batch   37/53   train_loss = 0.151\n",
      "Epoch 272 Batch   34/53   train_loss = 0.161\n",
      "Epoch 273 Batch   31/53   train_loss = 0.149\n",
      "Epoch 274 Batch   28/53   train_loss = 0.173\n",
      "Epoch 275 Batch   25/53   train_loss = 0.163\n",
      "Epoch 276 Batch   22/53   train_loss = 0.153\n",
      "Epoch 277 Batch   19/53   train_loss = 0.171\n",
      "Epoch 278 Batch   16/53   train_loss = 0.144\n",
      "Epoch 279 Batch   13/53   train_loss = 0.138\n",
      "Epoch 280 Batch   10/53   train_loss = 0.145\n",
      "Epoch 281 Batch    7/53   train_loss = 0.180\n",
      "Epoch 282 Batch    4/53   train_loss = 0.136\n",
      "Epoch 283 Batch    1/53   train_loss = 0.155\n",
      "Epoch 283 Batch   51/53   train_loss = 0.154\n",
      "Epoch 284 Batch   48/53   train_loss = 0.156\n",
      "Epoch 285 Batch   45/53   train_loss = 0.144\n",
      "Epoch 286 Batch   42/53   train_loss = 0.154\n",
      "Epoch 287 Batch   39/53   train_loss = 0.156\n",
      "Epoch 288 Batch   36/53   train_loss = 0.140\n",
      "Epoch 289 Batch   33/53   train_loss = 0.158\n",
      "Epoch 290 Batch   30/53   train_loss = 0.162\n",
      "Epoch 291 Batch   27/53   train_loss = 0.135\n",
      "Epoch 292 Batch   24/53   train_loss = 0.148\n",
      "Epoch 293 Batch   21/53   train_loss = 0.148\n",
      "Epoch 294 Batch   18/53   train_loss = 0.152\n",
      "Epoch 295 Batch   15/53   train_loss = 0.139\n",
      "Epoch 296 Batch   12/53   train_loss = 0.124\n",
      "Epoch 297 Batch    9/53   train_loss = 0.147\n",
      "Epoch 298 Batch    6/53   train_loss = 0.145\n",
      "Epoch 299 Batch    3/53   train_loss = 0.131\n",
      "Model Trained and Saved\n"
     ]
    }
   ],
   "source": [
    "\"\"\"\n",
    "DON'T MODIFY ANYTHING IN THIS CELL\n",
    "\"\"\"\n",
    "batches = get_batches(int_text, batch_size, seq_length)\n",
    "\n",
    "with tf.Session(graph=train_graph) as sess:\n",
    "    sess.run(tf.global_variables_initializer())\n",
    "\n",
    "    for epoch_i in range(num_epochs):\n",
    "        state = sess.run(initial_state, {input_text: batches[0][0]})\n",
    "\n",
    "        for batch_i, (x, y) in enumerate(batches):\n",
    "            feed = {\n",
    "                input_text: x,\n",
    "                targets: y,\n",
    "                initial_state: state,\n",
    "                lr: learning_rate}\n",
    "            train_loss, state, _ = sess.run([cost, final_state, train_op], feed)\n",
    "\n",
    "            # Show every <show_every_n_batches> batches\n",
    "            if (epoch_i * len(batches) + batch_i) % show_every_n_batches == 0:\n",
    "                print('Epoch {:>3} Batch {:>4}/{}   train_loss = {:.3f}'.format(\n",
    "                    epoch_i,\n",
    "                    batch_i,\n",
    "                    len(batches),\n",
    "                    train_loss))\n",
    "\n",
    "    # Save Model\n",
    "    saver = tf.train.Saver()\n",
    "    saver.save(sess, save_dir)\n",
    "    print('Model Trained and Saved')"
   ]
  },
  {
   "cell_type": "markdown",
   "metadata": {},
   "source": [
    "## Save Parameters\n",
    "Save `seq_length` and `save_dir` for generating a new TV script."
   ]
  },
  {
   "cell_type": "code",
   "execution_count": 35,
   "metadata": {
    "collapsed": true
   },
   "outputs": [],
   "source": [
    "\"\"\"\n",
    "DON'T MODIFY ANYTHING IN THIS CELL\n",
    "\"\"\"\n",
    "# Save parameters for checkpoint\n",
    "helper.save_params((seq_length, save_dir))"
   ]
  },
  {
   "cell_type": "markdown",
   "metadata": {},
   "source": [
    "# Checkpoint"
   ]
  },
  {
   "cell_type": "code",
   "execution_count": 36,
   "metadata": {
    "collapsed": true
   },
   "outputs": [],
   "source": [
    "\"\"\"\n",
    "DON'T MODIFY ANYTHING IN THIS CELL\n",
    "\"\"\"\n",
    "import tensorflow as tf\n",
    "import numpy as np\n",
    "import helper\n",
    "import problem_unittests as tests\n",
    "\n",
    "_, vocab_to_int, int_to_vocab, token_dict = helper.load_preprocess()\n",
    "seq_length, load_dir = helper.load_params()"
   ]
  },
  {
   "cell_type": "markdown",
   "metadata": {},
   "source": [
    "## Implement Generate Functions\n",
    "### Get Tensors\n",
    "Get tensors from `loaded_graph` using the function [`get_tensor_by_name()`](https://www.tensorflow.org/api_docs/python/tf/Graph#get_tensor_by_name).  Get the tensors using the following names:\n",
    "- \"input:0\"\n",
    "- \"initial_state:0\"\n",
    "- \"final_state:0\"\n",
    "- \"probs:0\"\n",
    "\n",
    "Return the tensors in the following tuple `(InputTensor, InitialStateTensor, FinalStateTensor, ProbsTensor)` "
   ]
  },
  {
   "cell_type": "code",
   "execution_count": 37,
   "metadata": {},
   "outputs": [
    {
     "name": "stdout",
     "output_type": "stream",
     "text": [
      "Tests Passed\n"
     ]
    }
   ],
   "source": [
    "def get_tensors(loaded_graph):\n",
    "    \"\"\"\n",
    "    Get input, initial state, final state, and probabilities tensor from <loaded_graph>\n",
    "    :param loaded_graph: TensorFlow graph loaded from file\n",
    "    :return: Tuple (InputTensor, InitialStateTensor, FinalStateTensor, ProbsTensor)\n",
    "    \"\"\"\n",
    "    # TODO: Implement Function\n",
    "    return (loaded_graph.get_tensor_by_name(\"input:0\"),loaded_graph.get_tensor_by_name(\"initial_state:0\"),loaded_graph.get_tensor_by_name(\"final_state:0\"),loaded_graph.get_tensor_by_name(\"probs:0\"))\n",
    "\n",
    "\n",
    "\"\"\"\n",
    "DON'T MODIFY ANYTHING IN THIS CELL THAT IS BELOW THIS LINE\n",
    "\"\"\"\n",
    "tests.test_get_tensors(get_tensors)"
   ]
  },
  {
   "cell_type": "markdown",
   "metadata": {},
   "source": [
    "### Choose Word\n",
    "Implement the `pick_word()` function to select the next word using `probabilities`."
   ]
  },
  {
   "cell_type": "code",
   "execution_count": 39,
   "metadata": {},
   "outputs": [
    {
     "name": "stdout",
     "output_type": "stream",
     "text": [
      "Tests Passed\n"
     ]
    }
   ],
   "source": [
    "def pick_word(probabilities, int_to_vocab):\n",
    "    \"\"\"\n",
    "    Pick the next word in the generated text\n",
    "    :param probabilities: Probabilites of the next word\n",
    "    :param int_to_vocab: Dictionary of word ids as the keys and words as the values\n",
    "    :return: String of the predicted word\n",
    "    \"\"\"\n",
    "    \n",
    "    return int_to_vocab[np.argmax(probabilities)]\n",
    "\n",
    "\n",
    "\"\"\"\n",
    "DON'T MODIFY ANYTHING IN THIS CELL THAT IS BELOW THIS LINE\n",
    "\"\"\"\n",
    "tests.test_pick_word(pick_word)"
   ]
  },
  {
   "cell_type": "markdown",
   "metadata": {},
   "source": [
    "## Generate TV Script\n",
    "This will generate the TV script for you.  Set `gen_length` to the length of TV script you want to generate."
   ]
  },
  {
   "cell_type": "code",
   "execution_count": 40,
   "metadata": {
    "scrolled": false
   },
   "outputs": [
    {
     "name": "stdout",
     "output_type": "stream",
     "text": [
      "moe_szyslak:(into phone) gotcha ya down for forty bucks. good luck your eminence.\n",
      "moe_szyslak: sorry, but. it's gonna come with ya in the mayor and a noose.\n",
      "moe_szyslak: hey, what you wanna go at the laugh!\n",
      "lenny_leonard: yeah, we're gone. and i don't think they say like to you.\n",
      "lenny_leonard:(mid-conversation) so who have care!\n",
      "homer_simpson: number one dumb.\n",
      "homer_simpson:(looking around) oh, dear.\n",
      "\n",
      "\n",
      "homer_simpson:(pants full to himself) you should get so last up for traffic with this bar.\n",
      "moe_szyslak: yeah, that's a lot. no how have really be barney to turn your wife at talkin'.\n",
      "seymour_skinner: homer, i want to represent you with you are you to get a guest lecture.\n",
      "homer_simpson: well, i was like what about like these?\n",
      "\n",
      "\n",
      "homer_simpson:... and stay out?\n",
      "homer_simpson: i was just thinking of a wheel wells of aer lingus jets.\n",
      "carl_carlson: yeah, in a ticket to get drunk with\n"
     ]
    }
   ],
   "source": [
    "gen_length = 200\n",
    "# homer_simpson, moe_szyslak, or Barney_Gumble\n",
    "prime_word = 'moe_szyslak'\n",
    "\n",
    "\"\"\"\n",
    "DON'T MODIFY ANYTHING IN THIS CELL THAT IS BELOW THIS LINE\n",
    "\"\"\"\n",
    "loaded_graph = tf.Graph()\n",
    "with tf.Session(graph=loaded_graph) as sess:\n",
    "    # Load saved model\n",
    "    loader = tf.train.import_meta_graph(load_dir + '.meta')\n",
    "    loader.restore(sess, load_dir)\n",
    "\n",
    "    # Get Tensors from loaded model\n",
    "    input_text, initial_state, final_state, probs = get_tensors(loaded_graph)\n",
    "\n",
    "    # Sentences generation setup\n",
    "    gen_sentences = [prime_word + ':']\n",
    "    prev_state = sess.run(initial_state, {input_text: np.array([[1]])})\n",
    "\n",
    "    # Generate sentences\n",
    "    for n in range(gen_length):\n",
    "        # Dynamic Input\n",
    "        dyn_input = [[vocab_to_int[word] for word in gen_sentences[-seq_length:]]]\n",
    "        dyn_seq_length = len(dyn_input[0])\n",
    "\n",
    "        # Get Prediction\n",
    "        probabilities, prev_state = sess.run(\n",
    "            [probs, final_state],\n",
    "            {input_text: dyn_input, initial_state: prev_state})\n",
    "        \n",
    "        pred_word = pick_word(probabilities[dyn_seq_length-1], int_to_vocab)\n",
    "\n",
    "        gen_sentences.append(pred_word)\n",
    "    \n",
    "    # Remove tokens\n",
    "    tv_script = ' '.join(gen_sentences)\n",
    "    for key, token in token_dict.items():\n",
    "        ending = ' ' if key in ['\\n', '(', '\"'] else ''\n",
    "        tv_script = tv_script.replace(' ' + token.lower(), key)\n",
    "    tv_script = tv_script.replace('\\n ', '\\n')\n",
    "    tv_script = tv_script.replace('( ', '(')\n",
    "        \n",
    "    print(tv_script)"
   ]
  },
  {
   "cell_type": "markdown",
   "metadata": {},
   "source": [
    "# The TV Script is Nonsensical\n",
    "It's ok if the TV script doesn't make any sense.  We trained on less than a megabyte of text.  In order to get good results, you'll have to use a smaller vocabulary or get more data.  Luckly there's more data!  As we mentioned in the begging of this project, this is a subset of [another dataset](https://www.kaggle.com/wcukierski/the-simpsons-by-the-data).  We didn't have you train on all the data, because that would take too long.  However, you are free to train your neural network on all the data.  After you complete the project, of course.\n",
    "# Submitting This Project\n",
    "When submitting this project, make sure to run all the cells before saving the notebook. Save the notebook file as \"dlnd_tv_script_generation.ipynb\" and save it as a HTML file under \"File\" -> \"Download as\". Include the \"helper.py\" and \"problem_unittests.py\" files in your submission."
   ]
  }
 ],
 "metadata": {
  "kernelspec": {
   "display_name": "Python 3",
   "language": "python",
   "name": "python3"
  },
  "language_info": {
   "codemirror_mode": {
    "name": "ipython",
    "version": 3
   },
   "file_extension": ".py",
   "mimetype": "text/x-python",
   "name": "python",
   "nbconvert_exporter": "python",
   "pygments_lexer": "ipython3",
   "version": "3.5.4"
  },
  "widgets": {
   "state": {},
   "version": "1.1.2"
  }
 },
 "nbformat": 4,
 "nbformat_minor": 1
}
